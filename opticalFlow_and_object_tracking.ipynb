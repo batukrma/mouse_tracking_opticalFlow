{
 "cells": [
  {
   "cell_type": "code",
   "execution_count": 6,
   "metadata": {},
   "outputs": [
    {
     "name": "stderr",
     "output_type": "stream",
     "text": [
      "C:\\Users\\batuhan\\AppData\\Local\\Packages\\PythonSoftwareFoundation.Python.3.11_qbz5n2kfra8p0\\LocalCache\\local-packages\\Python311\\site-packages\\google\\protobuf\\symbol_database.py:55: UserWarning: SymbolDatabase.GetPrototype() is deprecated. Please use message_factory.GetMessageClass() instead. SymbolDatabase.GetPrototype() will be removed soon.\n",
      "  warnings.warn('SymbolDatabase.GetPrototype() is deprecated. Please '\n"
     ]
    }
   ],
   "source": [
    "import warnings\n",
    "import cv2\n",
    "import mediapipe as mp\n",
    "import pyautogui\n",
    "\n",
    "warnings.filterwarnings('ignore', 'SymbolDatabase.GetPrototype() is deprecated')\n",
    "\n",
    "mp_hands = mp.solutions.hands\n",
    "hands = mp_hands.Hands(max_num_hands=1)\n",
    "mp_draw = mp.solutions.drawing_utils\n",
    "\n",
    "cap = cv2.VideoCapture(0)\n",
    "\n",
    "screen_width, screen_height = pyautogui.size()\n",
    "camera_width = 640\n",
    "camera_height = 480\n",
    "\n",
    "def normalize_landmarks(landmark, img_width, img_height):\n",
    "    return int(landmark.x * img_width), int(landmark.y * img_height)\n",
    "\n",
    "def is_fingers_close(thumb_tip, index_tip, threshold=30):\n",
    "    return abs(thumb_tip[0] - index_tip[0]) < threshold and abs(thumb_tip[1] - index_tip[1]) < threshold\n",
    "\n",
    "while True:\n",
    "    success, img = cap.read()\n",
    "    img = cv2.flip(img, 1)  \n",
    "    if not success:\n",
    "        break\n",
    "\n",
    "    img_rgb = cv2.cvtColor(img, cv2.COLOR_BGR2RGB)\n",
    "    results = hands.process(img_rgb)\n",
    "\n",
    "    if results.multi_hand_landmarks:\n",
    "        for hand_landmarks in results.multi_hand_landmarks:\n",
    "            mp_draw.draw_landmarks(img, hand_landmarks, mp_hands.HAND_CONNECTIONS)\n",
    "\n",
    "            thumb_tip = normalize_landmarks(hand_landmarks.landmark[mp_hands.HandLandmark.THUMB_TIP], camera_width, camera_height)\n",
    "            index_tip = normalize_landmarks(hand_landmarks.landmark[mp_hands.HandLandmark.INDEX_FINGER_TIP], camera_width, camera_height)\n",
    "\n",
    "            index_tip_x = int(index_tip[0] * screen_width / camera_width)\n",
    "            index_tip_y = int(index_tip[1] * screen_height / camera_height)\n",
    "\n",
    "            \n",
    "\n",
    "            pyautogui.moveTo(index_tip_x, index_tip_y)\n",
    "\n",
    "            if is_fingers_close(thumb_tip, index_tip):\n",
    "                pyautogui.click()\n",
    "\n",
    "    cv2.imshow(\"Hand Tracking\", img)\n",
    "\n",
    "\n",
    "cap.release()\n",
    "cv2.destroyAllWindows()\n"
   ]
  },
  {
   "cell_type": "code",
   "execution_count": null,
   "metadata": {},
   "outputs": [],
   "source": []
  }
 ],
 "metadata": {
  "kernelspec": {
   "display_name": "Python 3",
   "language": "python",
   "name": "python3"
  },
  "language_info": {
   "codemirror_mode": {
    "name": "ipython",
    "version": 3
   },
   "file_extension": ".py",
   "mimetype": "text/x-python",
   "name": "python",
   "nbconvert_exporter": "python",
   "pygments_lexer": "ipython3",
   "version": "3.11.9"
  }
 },
 "nbformat": 4,
 "nbformat_minor": 2
}
